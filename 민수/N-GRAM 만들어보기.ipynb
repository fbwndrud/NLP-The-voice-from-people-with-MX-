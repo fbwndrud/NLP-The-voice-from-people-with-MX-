{
 "cells": [
  {
   "cell_type": "markdown",
   "metadata": {},
   "source": [
    "# N-gram 만들어보기"
   ]
  },
  {
   "cell_type": "code",
   "execution_count": 1,
   "metadata": {},
   "outputs": [],
   "source": [
    "from ekonlpy.sentiment import MPCK\n",
    "import pandas as pd"
   ]
  },
  {
   "cell_type": "code",
   "execution_count": 2,
   "metadata": {},
   "outputs": [],
   "source": [
    "mpck = MPCK()"
   ]
  },
  {
   "cell_type": "code",
   "execution_count": 3,
   "metadata": {},
   "outputs": [],
   "source": [
    "mpck?"
   ]
  },
  {
   "cell_type": "code",
   "execution_count": null,
   "metadata": {},
   "outputs": [],
   "source": [
    "def get_ngram( tokens, pos, gram):\n",
    "    \n",
    "    _start_tags = {'Noun','Adjective','Adverb'}\n",
    "    _noun_tags = {'Noun'}\n",
    "    _aux_tags = aux_tags\n",
    "    _auxwords = {'않다/Verb','못/VerbPrefix','하지만/Conjunction'}\n",
    "    _delimiter = ';'\n",
    "    \n",
    "    if pos < 0:\n",
    "        return None\n",
    "    if pos + gram > len(tokens):\n",
    "        return None\n",
    "    token = tokens[pos]\n",
    "    check_noun = False\n",
    "\n",
    "    tag = token.split('/')[1] if '/' in token else None\n",
    "    if tag in _start_tags:\n",
    "        if tag in _noun_tags:\n",
    "            check_noun = True\n",
    "        for i in range(1, gram):\n",
    "            if tokens[pos + i] != tokens[pos + i - 1]:\n",
    "                tag = tokens[pos + i].split('/')[1] if '/' in tokens[pos + i] else None\n",
    "                if tag in _noun_tags:\n",
    "                    check_noun = True\n",
    "                token += _delimiter + tokens[pos + i]\n",
    "        if check_noun:\n",
    "            return token\n",
    "        else:\n",
    "            return None\n",
    "    else:\n",
    "        return None"
   ]
  },
  {
   "cell_type": "code",
   "execution_count": 4,
   "metadata": {},
   "outputs": [
    {
     "name": "stderr",
     "output_type": "stream",
     "text": [
      "C:\\Users\\82102\\Anaconda3\\envs\\my_python\\lib\\site-packages\\jpype\\_core.py:210: UserWarning: \n",
      "-------------------------------------------------------------------------------\n",
      "Deprecated: convertStrings was not specified when starting the JVM. The default\n",
      "behavior in JPype will be False starting in JPype 0.8. The recommended setting\n",
      "for new code is convertStrings=False.  The legacy value of True was assumed for\n",
      "this session. If you are a user of an application that reported this warning,\n",
      "please file a ticket with the developer.\n",
      "-------------------------------------------------------------------------------\n",
      "\n",
      "  \"\"\")\n"
     ]
    }
   ],
   "source": [
    "from konlpy.tag import Okt\n",
    "okt = Okt()"
   ]
  },
  {
   "cell_type": "code",
   "execution_count": 5,
   "metadata": {},
   "outputs": [
    {
     "data": {
      "text/plain": [
       "[('아', 'Exclamation'),\n",
       " ('진짜', 'Noun'),\n",
       " ('오래', 'Adverb'),\n",
       " ('걸리는', 'Verb'),\n",
       " ('작업', 'Noun'),\n",
       " ('인거', 'Josa'),\n",
       " ('같다', 'Adjective'),\n",
       " ('.', 'Punctuation')]"
      ]
     },
     "execution_count": 5,
     "metadata": {},
     "output_type": "execute_result"
    }
   ],
   "source": [
    "okt.pos('아 진짜 오래걸리는 작업인거 같다.')"
   ]
  },
  {
   "cell_type": "code",
   "execution_count": null,
   "metadata": {},
   "outputs": [],
   "source": []
  }
 ],
 "metadata": {
  "kernelspec": {
   "display_name": "Python 3",
   "language": "python",
   "name": "python3"
  },
  "language_info": {
   "codemirror_mode": {
    "name": "ipython",
    "version": 3
   },
   "file_extension": ".py",
   "mimetype": "text/x-python",
   "name": "python",
   "nbconvert_exporter": "python",
   "pygments_lexer": "ipython3",
   "version": "3.6.8"
  }
 },
 "nbformat": 4,
 "nbformat_minor": 2
}
